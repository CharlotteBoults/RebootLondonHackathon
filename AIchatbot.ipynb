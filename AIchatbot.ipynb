{
 "cells": [
  {
   "cell_type": "code",
   "execution_count": 1,
   "id": "222d306b-9efc-418c-9cf8-5a399ee2eb6c",
   "metadata": {},
   "outputs": [
    {
     "name": "stdout",
     "output_type": "stream",
     "text": [
      "Here are some of the most iconic—and a few off‑the‑beaten‑path—things to see and do in Paris:\n",
      "\n",
      "1. Eiffel Tower  \n",
      "   – The city’s emblem. You can picnic on the Champ de Mars, ride the elevators to the 2nd floor or summit, and (if you like) dine at one of its restaurants.\n",
      "\n",
      "2. Louvre Museum  \n",
      "   – Home to the Mona Lisa, Winged Victory and thousands of antiquities. Even if you only have a few hours, pick a wing or two (e.g. Italian painting, Egyptian collection) rather than trying to “see it all.”\n",
      "\n",
      "3. Musée d’Orsay  \n",
      "   – Housed in a converted railway station, it showcases Impressionist and post‑Impressionist masterpieces by Monet, Van Gogh, Renoir and more.\n",
      "\n",
      "4. Cathédrale Notre‑Dame & Île de la Cité  \n",
      "   – Though restoration continues after the 2019 fire, you can admire the exterior, stroll the island, visit Sainte‑Chapelle just behind it (famed for its stained‑glass windows), and browse the Conciergerie.\n",
      "\n",
      "5. Montmartre & Sacré‑Cœur  \n",
      "   – Wandering the cobbled streets around Place du Tertre you’ll find artists, cafés and the white‑domed basilica overlooking the city. Great for sunset views.\n",
      "\n",
      "6. Champs‑Élysées & Arc de Triomphe  \n",
      "   – Walk (or shop) your way down the grand avenue, then climb the Arc for another panoramic vista. In winter you may catch a festive market.\n",
      "\n",
      "7. Latin Quarter & Jardin du Luxembourg  \n",
      "   – Historic university district with narrow lanes, bookshops, student‑friendly cafés. Don’t miss wandering through the Luxembourg Gardens.\n",
      "\n",
      "8. Le Marais  \n",
      "   – Trendy neighborhood of medieval streets, art galleries, boutiques and falafel stands. Highlights include Place des Vosges and the Musée Carnavalet.\n",
      "\n",
      "9. Seine River Cruise  \n",
      "   – A one‑hour bateau‑mouche tour shows you many landmarks from the water. It’s especially magical at dusk, when bridges and monuments are illuminated.\n",
      "\n",
      "10. Musée Rodin or Musée de l’Orangerie  \n",
      "   – If you crave more art in a quieter setting, Rodin’s sculptures in a lush garden or Monet’s Water Lilies in the Tuileries are serene options.\n",
      "\n",
      "11. Père Lachaise Cemetery  \n",
      "   – Tour winding aisles to find Jim Morrison, Oscar Wilde, Chopin and other notable tombs.\n",
      "\n",
      "12. Day Trips (if time allows)  \n",
      "   – Palace of Versailles: opulent state apartments and magnificent gardens.  \n",
      "   – Giverny: Monet’s home and flower gardens (mid‑spring through fall).  \n",
      "   – Chartres Cathedral: a Gothic masterpiece just an hour by train.\n",
      "\n",
      "Tips for planning  \n",
      "• Book major‑museum tickets online in advance to skip lines.  \n",
      "• Take metro line 1 and 14 or use Vélib’ bike‑shares for quick hops between sights.  \n",
      "• Aim to mix indoor (museums, churches) and outdoor (parks, promenades) activities so you can rest and people‑watch.\n",
      "\n",
      "Enjoy your trip—Paris unfolds best at a leisurely pace, one café stop at a time!\n"
     ]
    }
   ],
   "source": [
    "import os\n",
    "from openai import AzureOpenAI\n",
    "\n",
    "endpoint = \"https://team1-m9v4q1sc-eastus2.cognitiveservices.azure.com/\"\n",
    "model_name = \"o4-mini\"\n",
    "deployment = \"o4-mini\"\n",
    "\n",
    "subscription_key = \"FovHvpW6FkibdKMrKh12DTA2hq9G3TeUJhmcqRTy6wMaajA61oJFJQQJ99BDACHYHv6XJ3w3AAAAACOGRZum\"\n",
    "api_version = \"2024-12-01-preview\"\n",
    "\n",
    "client = AzureOpenAI(\n",
    "    api_version=api_version,\n",
    "    azure_endpoint=endpoint,\n",
    "    api_key=subscription_key,\n",
    ")\n",
    "\n",
    "response = client.chat.completions.create(\n",
    "    messages=[\n",
    "        {\n",
    "            \"role\": \"system\",\n",
    "            \"content\": \"You are a helpful assistant.\",\n",
    "        },\n",
    "        {\n",
    "            \"role\": \"user\",\n",
    "            \"content\": \"I am going to Paris, what should I see?\",\n",
    "        }\n",
    "    ],\n",
    "    max_completion_tokens=100000,\n",
    "    model=deployment\n",
    ")\n",
    "\n",
    "print(response.choices[0].message.content)"
   ]
  }
 ],
 "metadata": {
  "kernelspec": {
   "display_name": "Python 3 (ipykernel)",
   "language": "python",
   "name": "python3"
  },
  "language_info": {
   "codemirror_mode": {
    "name": "ipython",
    "version": 3
   },
   "file_extension": ".py",
   "mimetype": "text/x-python",
   "name": "python",
   "nbconvert_exporter": "python",
   "pygments_lexer": "ipython3",
   "version": "3.9.13"
  }
 },
 "nbformat": 4,
 "nbformat_minor": 5
}
