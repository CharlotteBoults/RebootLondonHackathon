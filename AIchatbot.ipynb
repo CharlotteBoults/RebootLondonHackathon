{
 "cells": [
  {
   "cell_type": "code",
   "id": "222d306b-9efc-418c-9cf8-5a399ee2eb6c",
   "metadata": {
    "ExecuteTime": {
     "end_time": "2025-04-24T12:55:22.367934Z",
     "start_time": "2025-04-24T12:55:20.984460Z"
    }
   },
   "source": [
    "import os\n",
    "from openai import AzureOpenAI\n",
    "\n",
    "endpoint = \"https://team1-m9v4q1sc-eastus2.cognitiveservices.azure.com/\"\n",
    "model_name = \"o4-mini\"\n",
    "deployment = \"o4-mini\"\n",
    "\n",
    "subscription_key = \"FovHvpW6FkibdKMrKh12DTA2hq9G3TeUJhmcqRTy6wMaajA61oJFJQQJ99BDACHYHv6XJ3w3AAAAACOGRZum\"\n",
    "api_version = \"2024-12-01-preview\"\n",
    "\n",
    "client = AzureOpenAI(\n",
    "    api_version=api_version,\n",
    "    azure_endpoint=endpoint,\n",
    "    api_key=subscription_key,\n",
    ")\n",
    "\n",
    "comment_value = 'this product is really, really good'\n",
    "\n",
    "response = client.chat.completions.create(\n",
    "    messages = [\n",
    "    {\n",
    "        \"role\": \"system\",\n",
    "        \"content\": (\n",
    "            \"You are a sentiment analysis assistant. \"\n",
    "            \"When given a user’s comment, you must respond with exactly one word: \"\n",
    "            \"‘Positive’ if the sentiment is positive, or ‘Negative’ if the sentiment is negative. \"\n",
    "            \"Do not add any other words or punctuation.\"\n",
    "        )\n",
    "    },\n",
    "    {\n",
    "        \"role\": \"user\",\n",
    "        \"content\": f\"Comment: {comment_value}\"\n",
    "    }\n",
    "],\n",
    "    max_completion_tokens=100000,\n",
    "    model=deployment\n",
    ")\n",
    "\n",
    "print(response.choices[0].message.content)"
   ],
   "outputs": [
    {
     "name": "stdout",
     "output_type": "stream",
     "text": [
      "Positive\n"
     ]
    }
   ],
   "execution_count": 3
  },
  {
   "metadata": {},
   "cell_type": "code",
   "outputs": [],
   "execution_count": null,
   "source": [
    "comment_value = 'this product is really, really bad'\n",
    "\n",
    "messages = [\n",
    "    {\n",
    "        \"role\": \"system\",\n",
    "        \"content\": (\n",
    "            \"You are a sentiment analysis assistant. \"\n",
    "            \"When given a user’s comment, you must respond with exactly one word: \"\n",
    "            \"‘Positive’ if the sentiment is positive, or ‘Negative’ if the sentiment is negative. \"\n",
    "            \"Do not add any other words or punctuation.\"\n",
    "        )\n",
    "    },\n",
    "    {\n",
    "        \"role\": \"user\",\n",
    "        \"content\": f\"Comment: {comment_value}\"\n",
    "    }\n",
    "]\n",
    "\n",
    "response = openai.ChatCompletion.create(\n",
    "    model=\"gpt-4o-mini\",\n",
    "    temperature=0.0,\n",
    "    messages=messages\n",
    ")\n",
    "sentiment = response.choices[0].message.content"
   ],
   "id": "3e7535649efb267e"
  }
 ],
 "metadata": {
  "kernelspec": {
   "display_name": "Python 3 (ipykernel)",
   "language": "python",
   "name": "python3"
  },
  "language_info": {
   "codemirror_mode": {
    "name": "ipython",
    "version": 3
   },
   "file_extension": ".py",
   "mimetype": "text/x-python",
   "name": "python",
   "nbconvert_exporter": "python",
   "pygments_lexer": "ipython3",
   "version": "3.9.13"
  }
 },
 "nbformat": 4,
 "nbformat_minor": 5
}
